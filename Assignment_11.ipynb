{
 "cells": [
  {
   "cell_type": "markdown",
   "id": "55ae2c90",
   "metadata": {},
   "source": [
    "Q1. What is Exception in pthon? Write the difference between Exceptions and syntx errors.\n",
    "\n",
    "Ans:- Exception:An exception is a condition that interrupts the normal flow of the program.\n",
    "                It can be handled manually by the programmer.\n",
    "                An Exception is an error that happens during the execution of a program.\n",
    "                Whenever there is an error, Python generates an exception that could be handled.\n",
    "                It basically prevents the program from getting crashed.\n",
    "                \n",
    "      Differences:\n",
    "      A syntax error occurs when the structure of a program does not conform to the rules of the programming language.\n",
    "      Syntax errors are usually detected by the compiler or interpreter when the program is being compiled or executed,\n",
    "      and they prevent the program from running. Syntax errors are usually caused by mistakes in the source code, such \n",
    "      as typos, omissions, or incorrect use of syntax.\n",
    "      \n",
    "      An exception is an abnormal event that occurs during the execution of a program. Exceptions are usually caused by\n",
    "      runtime errors, such as dividing by zero, trying to access an element in an array with an out-of-bounds index, or\n",
    "      trying to access a file that does not exist. Exceptions are not syntax errors, but they can still prevent the program \n",
    "      from running if they are not handled properly.\n"
   ]
  },
  {
   "cell_type": "markdown",
   "id": "84b81458",
   "metadata": {},
   "source": [
    "Q2. What happens when an exception is not handled? Explain with an example?\n",
    "\n",
    "Ans:-If you don't handle it, the program terminates abruptly and the code past the line that caused the exception will\n",
    "     not get executed."
   ]
  },
  {
   "cell_type": "code",
   "execution_count": 1,
   "id": "f6d68ab4",
   "metadata": {},
   "outputs": [
    {
     "ename": "ZeroDivisionError",
     "evalue": "division by zero",
     "output_type": "error",
     "traceback": [
      "\u001b[1;31m---------------------------------------------------------------------------\u001b[0m",
      "\u001b[1;31mZeroDivisionError\u001b[0m                         Traceback (most recent call last)",
      "\u001b[1;32m~\\AppData\\Local\\Temp\\ipykernel_14832\\3409301267.py\u001b[0m in \u001b[0;36m<module>\u001b[1;34m\u001b[0m\n\u001b[0;32m      5\u001b[0m \u001b[1;33m\u001b[0m\u001b[0m\n\u001b[0;32m      6\u001b[0m \u001b[1;31m# Attempt to divide 10 by 0, which will raise a ZeroDivisionError\u001b[0m\u001b[1;33m\u001b[0m\u001b[1;33m\u001b[0m\u001b[0m\n\u001b[1;32m----> 7\u001b[1;33m \u001b[0mre\u001b[0m \u001b[1;33m=\u001b[0m \u001b[0mdivide_nums\u001b[0m\u001b[1;33m(\u001b[0m\u001b[1;36m10\u001b[0m\u001b[1;33m,\u001b[0m \u001b[1;36m0\u001b[0m\u001b[1;33m)\u001b[0m\u001b[1;33m\u001b[0m\u001b[1;33m\u001b[0m\u001b[0m\n\u001b[0m\u001b[0;32m      8\u001b[0m \u001b[0mprint\u001b[0m\u001b[1;33m(\u001b[0m\u001b[0mre\u001b[0m\u001b[1;33m)\u001b[0m\u001b[1;33m\u001b[0m\u001b[1;33m\u001b[0m\u001b[0m\n\u001b[0;32m      9\u001b[0m \u001b[1;33m\u001b[0m\u001b[0m\n",
      "\u001b[1;32m~\\AppData\\Local\\Temp\\ipykernel_14832\\3409301267.py\u001b[0m in \u001b[0;36mdivide_nums\u001b[1;34m(a, b)\u001b[0m\n\u001b[0;32m      1\u001b[0m \u001b[1;31m#Example\u001b[0m\u001b[1;33m\u001b[0m\u001b[1;33m\u001b[0m\u001b[0m\n\u001b[0;32m      2\u001b[0m \u001b[1;32mdef\u001b[0m \u001b[0mdivide_nums\u001b[0m\u001b[1;33m(\u001b[0m\u001b[0ma\u001b[0m\u001b[1;33m,\u001b[0m \u001b[0mb\u001b[0m\u001b[1;33m)\u001b[0m\u001b[1;33m:\u001b[0m\u001b[1;33m\u001b[0m\u001b[1;33m\u001b[0m\u001b[0m\n\u001b[1;32m----> 3\u001b[1;33m     \u001b[0mre\u001b[0m \u001b[1;33m=\u001b[0m \u001b[0ma\u001b[0m \u001b[1;33m/\u001b[0m \u001b[0mb\u001b[0m\u001b[1;33m\u001b[0m\u001b[1;33m\u001b[0m\u001b[0m\n\u001b[0m\u001b[0;32m      4\u001b[0m     \u001b[1;32mreturn\u001b[0m \u001b[0mresult\u001b[0m\u001b[1;33m\u001b[0m\u001b[1;33m\u001b[0m\u001b[0m\n\u001b[0;32m      5\u001b[0m \u001b[1;33m\u001b[0m\u001b[0m\n",
      "\u001b[1;31mZeroDivisionError\u001b[0m: division by zero"
     ]
    }
   ],
   "source": [
    "#Example\n",
    "def divide_nums(a, b):\n",
    "    re = a / b\n",
    "    return result\n",
    "\n",
    "# Attempt to divide 10 by 0, which will raise a ZeroDivisionError\n",
    "re = divide_nums(10, 0)\n",
    "print(re)\n",
    "\n"
   ]
  },
  {
   "cell_type": "markdown",
   "id": "d94e78fb",
   "metadata": {},
   "source": [
    "Q3. Which Python statements are used to catch and handle exceptions? Explain with an example.\n",
    "\n",
    "Ans:- Python statements are used to catch and handle exception are:\n",
    "      a) try\n",
    "      b) except\n",
    "      c)else\n",
    "      d)finally"
   ]
  },
  {
   "cell_type": "code",
   "execution_count": 10,
   "id": "d36f02b1",
   "metadata": {},
   "outputs": [
    {
     "name": "stdout",
     "output_type": "stream",
     "text": [
      "Enter your age : 156\n",
      "Enter age is very high\n",
      "You are in finally block\n"
     ]
    }
   ],
   "source": [
    "#Example\n",
    "#age = int(input(\"Enter your age : \"))\n",
    "class validateage(Exception):\n",
    "    def __init__(self,msg):\n",
    "        self.msg = msg\n",
    "def validatege(age):\n",
    "    if age<=0:\n",
    "        raise validateage(\"Enter age is not valid\")\n",
    "    elif age>150:\n",
    "        raise validateage(\"Enter age is very high\")\n",
    "    else:\n",
    "        print(\"age is valid\")\n",
    "try:\n",
    "    age = int(input(\"Enter your age : \"))\n",
    "    validatege(age)\n",
    "except validateage as e:\n",
    "    print(e)\n",
    "finally:\n",
    "    print(\"You are in finally block\")"
   ]
  },
  {
   "cell_type": "markdown",
   "id": "a0e66bda",
   "metadata": {},
   "source": [
    "Q4. Explain with an example:\n",
    "    a)try and else\n",
    "    b)finally\n",
    "    c)raise\n",
    "    \n",
    "Ans:a)try and else\n",
    "     The try block is used to encapsulate code that might raise an exception, and the else block is executed if no\n",
    "     exceptions occur in the try block.\n",
    "    \n",
    "    b) finally\n",
    "    The finally block is used to execute cleanup code, regardless of whether an exception was raised in the preceding try block.\n",
    "    \n",
    "    c) raise\n",
    "    The raise statement is used to explicitly raise an exception or error in your code."
   ]
  },
  {
   "cell_type": "code",
   "execution_count": 11,
   "id": "412542b6",
   "metadata": {},
   "outputs": [
    {
     "name": "stdout",
     "output_type": "stream",
     "text": [
      "The result of the division is: 5.0\n",
      "Error: Division by zero!\n"
     ]
    }
   ],
   "source": [
    "# Example using try and else blocks\n",
    "def divide_nums(a, b):\n",
    "    try:\n",
    "        re = a / b\n",
    "    except ZeroDivisionError:\n",
    "        print(\"Error: Division by zero!\")\n",
    "    else:\n",
    "        print(f\"The result of the division is: {re}\")\n",
    "\n",
    "divide_nums(10, 2)  \n",
    "divide_nums(10, 0)  \n"
   ]
  },
  {
   "cell_type": "code",
   "execution_count": 16,
   "id": "f34acefc",
   "metadata": {},
   "outputs": [
    {
     "name": "stdout",
     "output_type": "stream",
     "text": [
      "Error: Division by zero!\n",
      "Finally exception is handled smoothly\n",
      "10\n"
     ]
    }
   ],
   "source": [
    "#Example of finally block\n",
    "def divide_nums(a, b):\n",
    "    try:\n",
    "        re = a / b\n",
    "    except ZeroDivisionError:\n",
    "        print(\"Error: Division by zero!\")\n",
    "    else:\n",
    "        print(f\"The result of the division is: {re}\")\n",
    "    finally:\n",
    "        print(\"Finally exception is handled smoothly\")\n",
    "    print(a+b)\n",
    "  \n",
    "divide_nums(10, 0) \n",
    "\n"
   ]
  },
  {
   "cell_type": "code",
   "execution_count": 17,
   "id": "713ef505",
   "metadata": {},
   "outputs": [
    {
     "name": "stdout",
     "output_type": "stream",
     "text": [
      "Age cannot be negative!\n",
      "You are an adult.\n"
     ]
    }
   ],
   "source": [
    "# Example using raise to manually raise an exception\n",
    "def check_age(age):\n",
    "    if age < 0:\n",
    "        raise ValueError(\"Age cannot be negative!\")\n",
    "    elif age < 18:\n",
    "        print(\"You are a minor.\")\n",
    "    else:\n",
    "        print(\"You are an adult.\")\n",
    "\n",
    "try:\n",
    "    check_age(-5)  \n",
    "except ValueError as e:\n",
    "    print(e) \n",
    "\n",
    "check_age(25)\n"
   ]
  },
  {
   "cell_type": "markdown",
   "id": "9ef88ead",
   "metadata": {},
   "source": [
    "Q5.What are the Custom Exceptions in Python?Why do we need Custom Exception?Explain with an example?\n",
    "\n",
    "Ans:-Custom Exceptions in Python:\n",
    "     In Python, custom exceptions are user-defined exceptions that allow developers to create specific types of exceptions\n",
    "     tailored to their applications or libraries.\n",
    "        \n",
    "     Why Do We Need Custom Exceptions?\n",
    "     Specificity: Custom exceptions allow you to define more specific error conditions for your application.\n",
    "     Clarity: By creating custom exceptions, you can provide more descriptive error messages or attributes that help\n",
    "     users or developers understand why a particular exception occurred."
   ]
  },
  {
   "cell_type": "code",
   "execution_count": 18,
   "id": "30725511",
   "metadata": {},
   "outputs": [
    {
     "name": "stdout",
     "output_type": "stream",
     "text": [
      "Enter your age : -78\n",
      "Enter age is negative\n"
     ]
    }
   ],
   "source": [
    "#Example\n",
    "class validateage(Exception):\n",
    "    def __init__(self,msg):\n",
    "        self.msg = msg\n",
    "def validatege(age):\n",
    "    if age<0:\n",
    "        raise validateage(\"Enter age is negative\")\n",
    "    elif age>150:\n",
    "        raise validateage(\"Enter age is very high\")\n",
    "    else:\n",
    "        print(\"age is valid\")\n",
    "try:\n",
    "    age = int(input(\"Enter your age : \"))\n",
    "    validatege(age)\n",
    "except validateage as e:\n",
    "    print(e)"
   ]
  },
  {
   "cell_type": "code",
   "execution_count": 19,
   "id": "9e733de7",
   "metadata": {},
   "outputs": [
    {
     "name": "stdout",
     "output_type": "stream",
     "text": [
      "Registration failed: Password must be at least 8 characters long.\n",
      "User 'Bob' registered successfully!\n"
     ]
    }
   ],
   "source": [
    "#Q6.create a custom exception class.Use this class to handle exception.\n",
    "\n",
    "\n",
    "# Define a custom exception class\n",
    "class InvalidPasswordError(Exception):\n",
    "\n",
    "    def __init__(self, message=\"Password does not meet the criteria\"):\n",
    "        self.message = message\n",
    "        super().__init__(self.message)\n",
    "\n",
    "\n",
    "# Function to simulate user registration with password validation\n",
    "def register_user(username, password):\n",
    "    try:\n",
    "        # Check password criteria (for example, minimum length)\n",
    "        if len(password) < 8:\n",
    "            raise InvalidPasswordError(\"Password must be at least 8 characters long.\")\n",
    "        else:\n",
    "            print(f\"User '{username}' registered successfully!\")\n",
    "    except InvalidPasswordError as e:\n",
    "        print(f\"Registration failed: {e}\")\n",
    "\n",
    "\n",
    "# Test the function with different password lengths\n",
    "register_user(\"Alice\", \"pass\")     \n",
    "register_user(\"Bob\", \"secure123\")  \n"
   ]
  },
  {
   "cell_type": "code",
   "execution_count": null,
   "id": "13c8c6dc",
   "metadata": {},
   "outputs": [],
   "source": []
  }
 ],
 "metadata": {
  "kernelspec": {
   "display_name": "Python 3 (ipykernel)",
   "language": "python",
   "name": "python3"
  },
  "language_info": {
   "codemirror_mode": {
    "name": "ipython",
    "version": 3
   },
   "file_extension": ".py",
   "mimetype": "text/x-python",
   "name": "python",
   "nbconvert_exporter": "python",
   "pygments_lexer": "ipython3",
   "version": "3.9.13"
  }
 },
 "nbformat": 4,
 "nbformat_minor": 5
}
